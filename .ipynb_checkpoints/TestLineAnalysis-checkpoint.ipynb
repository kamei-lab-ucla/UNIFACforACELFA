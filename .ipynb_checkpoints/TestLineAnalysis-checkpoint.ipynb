{
 "cells": [
  {
   "cell_type": "markdown",
   "id": "9dd2bf27",
   "metadata": {},
   "source": [
    "# Imports and Function Definitions"
   ]
  },
  {
   "cell_type": "code",
   "execution_count": null,
   "id": "ab1d8bf5",
   "metadata": {},
   "outputs": [],
   "source": [
    "import numpy as np\n",
    "import cv2\n",
    "import matplotlib.pyplot as plt\n",
    "import os\n",
    "import pandas as pd"
   ]
  },
  {
   "cell_type": "code",
   "execution_count": null,
   "id": "a0066e11",
   "metadata": {},
   "outputs": [],
   "source": [
    "#Function for quantifying test line intensity\n",
    "def testIntensity(src):\n",
    "    margin = 0 #margin around image, not relevant when doing manual cropping\n",
    "    step = 1 #Step size when searching for test line\n",
    "    controlToTest = 450 #Initial guess at distance between test and control lines\n",
    "    scan = 20 #size of area in pixels that is searched for location of test line\n",
    "    refScan = 10 #size of reference area in pixels\n",
    "    lineWidth = 6 #Half-width of line\n",
    "    src = cv2.cvtColor(src, cv2.COLOR_RGB2GRAY) #convert image to grayscale\n",
    "    img = cv2.rotate(src, cv2.ROTATE_90_COUNTERCLOCKWISE) #rotate image\n",
    "    \n",
    "    h,w = img.shape\n",
    "    \n",
    "    img = img[margin:h-margin, margin:w-margin]\n",
    "    \n",
    "    h,w = img.shape #get height and width\n",
    "    \n",
    "    #Convert image to 1D array of pixel intensities. For each row, use median value of grayscale pixel intensity\n",
    "    mean = np.median(img,axis=0)\n",
    "    mean = 255 - mean #so that high values correspond to dark areas\n",
    "    \n",
    "    #Looking for control line\n",
    "    \n",
    "    #Left/right bounds on area where control line can be found\n",
    "    left=0\n",
    "    right=int(w/2)\n",
    "    \n",
    "    LFAControl = mean[left:right] #cropped section of area where control line could be\n",
    "    ControlLineLoc = np.argmax(LFAControl) # potential location of control line\n",
    "    \n",
    "    #make sure control line location isn't the leftmost part of the image (this would be inaccurately focusing on a shadow)\n",
    "    while(ControlLineLoc == left):\n",
    "        left += step\n",
    "        LFAControl = mean[left:right]\n",
    "        ControlLineLoc = left + np.argmax(LFAControl)\n",
    "    \n",
    "    #make sure control line location isn't the rightmost part of the area (this is probably the test line)\n",
    "    while(ControlLineLoc == right):\n",
    "        right -= step\n",
    "        LFAControl = mean[left:right]\n",
    "        ControlLineLoc = left + np.argmax(LFAControl)\n",
    "    \n",
    "    #Search for test line\n",
    "    TestLineLoc = ControlLineLoc + controlToTest\n",
    "    \n",
    "    if TestLineLoc > len(mean):\n",
    "        TestLineLoc = ControlLineLoc + 75\n",
    "    if TestLineLoc + scan > len(mean):\n",
    "        scan = len(mean)-TestLineLoc\n",
    "    \n",
    "    TestLineLocation = TestLineLoc-scan + np.argmax(mean[TestLineLoc-scan:TestLineLoc+scan])\n",
    "    controlToTest = TestLineLocation - ControlLineLoc\n",
    "    \n",
    "    #Determine reference value (value of background intensity)\n",
    "    ReferenceLocation = int((ControlLineLoc + TestLineLocation)/2)\n",
    "    Reference = np.mean(mean[ReferenceLocation-refScan:ReferenceLocation+refScan])\n",
    "    \n",
    "    #subtract reference value from entire array, and make sure negative values are converted to 0\n",
    "    LFACorrected = mean-Reference\n",
    "    LFACorrected[LFACorrected < 0] = 0\n",
    "    \n",
    "    #Determine line intensities by taking sum of corrected intensity, centered at each line location\n",
    "    ControlLine = np.sum(LFACorrected[ControlLineLoc-lineWidth:ControlLineLoc+lineWidth])\n",
    "    \n",
    "    TestLine = np.sum(LFACorrected[TestLineLocation-lineWidth:TestLineLocation+lineWidth])\n",
    "    \n",
    "    #return values\n",
    "    return controlToTest,Reference,ControlLine,TestLine,TestLine/ControlLine"
   ]
  },
  {
   "cell_type": "markdown",
   "id": "f5ac240a",
   "metadata": {},
   "source": [
    "# Paths for input and output"
   ]
  },
  {
   "cell_type": "code",
   "execution_count": null,
   "id": "139d1245",
   "metadata": {},
   "outputs": [],
   "source": [
    "input_dir = r\"\" #folder containing cropped images of detection zones\n",
    "output_path = r\"\" #excel file that will be output to"
   ]
  },
  {
   "cell_type": "markdown",
   "id": "474b4455",
   "metadata": {},
   "source": [
    "# Generating Excel file for output"
   ]
  },
  {
   "cell_type": "code",
   "execution_count": null,
   "id": "1ab12e13",
   "metadata": {},
   "outputs": [],
   "source": [
    "df = pd.DataFrame(columns=('ControlToTest','Reference','Control Integral','Test Integral', 'Normalized Test Line'))\n",
    "\n",
    "for filename in os.listdir(input_dir):\n",
    "    f = os.path.join(input_dir, filename)\n",
    "    img = cv2.imread(f)\n",
    "    df.loc[filename] = testIntensity(img)\n",
    "    \n",
    "df.to_excel(output_path) "
   ]
  }
 ],
 "metadata": {
  "kernelspec": {
   "display_name": "Python 3 (ipykernel)",
   "language": "python",
   "name": "python3"
  },
  "language_info": {
   "codemirror_mode": {
    "name": "ipython",
    "version": 3
   },
   "file_extension": ".py",
   "mimetype": "text/x-python",
   "name": "python",
   "nbconvert_exporter": "python",
   "pygments_lexer": "ipython3",
   "version": "3.10.9"
  }
 },
 "nbformat": 4,
 "nbformat_minor": 5
}
